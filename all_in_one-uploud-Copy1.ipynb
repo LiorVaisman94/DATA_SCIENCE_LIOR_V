{
 "cells": [
  {
   "cell_type": "markdown",
   "id": "5e23d9a5",
   "metadata": {},
   "source": [
    "## Is it possible to predict  car rating based on its technical characteristics and user reviews?"
   ]
  },
  {
   "cell_type": "markdown",
   "id": "69807696",
   "metadata": {},
   "source": [
    "### import data"
   ]
  },
  {
   "cell_type": "code",
   "execution_count": null,
   "id": "7e44f24e",
   "metadata": {},
   "outputs": [],
   "source": [
    "import requests as rq\n",
    "from bs4 import BeautifulSoup\n",
    "import pandas as pd\n",
    "import re\n",
    "# my data frame columns\n",
    "data = pd.DataFrame(columns=['car_name','car_brand','year', 'price', 'rating_count', 'rating_link', 'Exterior_color', 'Interior_color', 'Drivetrain','mpg' ,'Fuel_type', 'Transmission', 'Engine', 'Engine_size','Mileage','li_tags_sum'])\n",
    "# the for look will go to page by changing the index 'i', the rest is the same\n",
    "for i in range(0,10):\n",
    "    # Website in a variable\n",
    "    website = 'https://www.cars.com/shopping/results/?page=' + str(i) + '&page_size=20&dealer_id=&keyword=&list_price_max=&list_price_min=&makes[]=&maximum_distance=all&mileage_max=&sort=best_match_desc&stock_type=used&year_max=&year_min=&zip='\n",
    "    data_cars = rq.get(website)\n",
    "    s = BeautifulSoup(data_cars.text, \"html.parser\")\n",
    "    # the web site is a list of ads of cars, the ads contains some of the information\n",
    "    # i choose to copy to a list[] all the href of each add and get the data from the full ad. \n",
    "    links = []\n",
    "    for link in s.find_all(\"a\",{'class':'vehicle-card-link js-gallery-click-link'}):\n",
    "        links.append(link.get(\"href\"))\n",
    "        # main for for data after we got the list[page i]\n",
    "    for link in links:\n",
    "        linkf = \"https://www.cars.com\" + link\n",
    "        data_car = rq.get(linkf)\n",
    "        soup = BeautifulSoup(data_car.text, \"html.parser\")\n",
    "        info = soup.find_all(\"dl\", {'class':'fancy-description-list'})\n",
    "\n",
    "        #car_name\n",
    "        car_name = soup.find('h1').get_text()\n",
    "        # the ad dont have the nake of the manufactures is a different label, i was forset to make a small function that will\n",
    "        # get the name from the full discripshion;) good practic to know all the companies\n",
    "        car_manufacturers = [\"Acura\", \"Alfa Romeo\", \"Aston Martin\", \"Audi\", \"Bentley\", \"BMW\", \"Bugatti\", \"Buick\", \"Cadillac\", \"Chevrolet\", \"Chrysler\", \"Citroën\", \"Dodge\", \"Ferrari\", \"Fiat\", \"Ford\", \"Geely\", \"Genesis\", \"GMC\", \"Honda\", \"Hyundai\", \"Infiniti\", \"Jaguar\", \"Jeep\", \"Kia\", \"Koenigsegg\", \"Lamborghini\", \"Land Rover\", \"Lexus\", \"Lincoln\", \"Lotus\", \"Maserati\", \"Mazda\", \"McLaren\", \"Mercedes-Benz\", \"Mini\", \"Mitsubishi\", \"Nissan\", \"Pagani\", \"Polestar\", \"Porsche\", \"Ram\", \"Renault\", \"Rolls-Royce\", \"Smart\", \"Subaru\", \"Suzuki\", \"Tesla\", \"Toyota\", \"Volkswagen\", \"Volvo\"]\n",
    "        for manufacturer in car_manufacturers:\n",
    "            if str(manufacturer).lower() in car_name.lower():\n",
    "                car_brand = manufacturer\n",
    "                break\n",
    "        else:\n",
    "            car_brand = 'Other'\n",
    "            # olsa about the year of poduction\n",
    "        year = car_name[:4]  # Extract the first four characters from the string\n",
    "        year = int(year)  # Convert the extracted string to an integer\n",
    "\n",
    "        #price\n",
    "        price = soup.find('span',{'class': 'primary-price'}).get_text()\n",
    "\n",
    "        try:\n",
    "            rating_count = (soup.find('span',{'class': 'sds-rating__count'}).get_text())\n",
    "        except:\n",
    "            rating_count = 'n/a'\n",
    "        try:\n",
    "            rating_link = (soup.find('span',{'class': 'sds-rating__link sds-button-link'}).get_text())\n",
    "        except:\n",
    "            rating_link = 'n/a'\n",
    "       # data : Exterior_color,Interior_color,Drivetrain,mpg,Fuel_type,Transmission,Engine,Mileage,sum of featurs\n",
    "        comp_info = pd.DataFrame()\n",
    "        cleaned_id_text = []\n",
    "        for i in info[0].find_all('dt'):\n",
    "            cleaned_id_text.append(i.text)\n",
    "        cleaned_id__attrb_text = []\n",
    "        for i in info[0].find_all('dd'):\n",
    "            cleaned_id__attrb_text.append(i.text)\n",
    "        comp_info['Id'] = cleaned_id_text\n",
    "        comp_info['Attribute'] = cleaned_id__attrb_text\n",
    "        Exterior_color = comp_info.iloc[0,1]\n",
    "        Interior_color = comp_info.iloc[1,1]\n",
    "        Drivetrain = comp_info.iloc[2,1]\n",
    "        mpg_text = comp_info.iloc[3, 1]\n",
    "               # the mpg data was a 2 numbers (23-42), i used the evg for my data.\n",
    "        match = re.search(r'\\n\\n(\\d+)[\\u2013-](\\d+)', mpg_text)\n",
    "        if match:\n",
    "  \n",
    "            new1 = int(match.group(1))\n",
    "            new2 = int(match.group(2))\n",
    "            mpg = (new1 + new2) / 2 \n",
    "        else:\n",
    "            mpg=0\n",
    "        Fuel_type = comp_info.iloc[4,1]\n",
    "        Transmission = comp_info.iloc[5,1]\n",
    "        Engine = comp_info.iloc[6,1]\n",
    "        m = re.search(r'(\\d+\\.\\d+)L', Engine)\n",
    "        if m:\n",
    "           Engine_size = m.group(1)\n",
    "        Mileage = comp_info.loc[comp_info['Id'] == 'Mileage', 'Attribute'].iloc[0]\n",
    "        try:\n",
    "              table = soup.find('ul', {'class': 'sds-list sds-list--unordered all-features-list'})\n",
    "              li_tags = table.find_all('li')\n",
    "              li_tags_sum=(len(li_tags))\n",
    "        except:\n",
    "              li_tags_sum = 'n/a'\n",
    "\n",
    "        data.loc[len(data)] = [car_name, car_brand,year,price, rating_count, rating_link, Exterior_color, Interior_color, Drivetrain, mpg,Fuel_type, Transmission, Engine,Engine_size ,Mileage,li_tags_sum]\n"
   ]
  },
  {
   "cell_type": "markdown",
   "id": "d0997b17",
   "metadata": {},
   "source": [
    "### save_data"
   ]
  },
  {
   "cell_type": "code",
   "execution_count": null,
   "id": "4e09662f",
   "metadata": {},
   "outputs": [],
   "source": [
    "from datetime import datetime\n",
    "filename = 'test_F' + datetime.today().strftime('%Y-%m-%d')\n",
    "data.to_csv(filename, index=False)"
   ]
  },
  {
   "cell_type": "markdown",
   "id": "d2e525fe",
   "metadata": {},
   "source": [
    "### import data "
   ]
  },
  {
   "cell_type": "code",
   "execution_count": null,
   "id": "bf976f6c",
   "metadata": {},
   "outputs": [],
   "source": [
    "import pandas as pd\n",
    "import requests as rq\n",
    "from bs4 import BeautifulSoup\n",
    "import pandas as pd\n",
    "import re\n",
    "\n",
    "# Read the CSV file into a pandas DataFrame\n",
    "combined_df = pd.read_csv('finall_data.csv')\n",
    "\n",
    "\n"
   ]
  },
  {
   "cell_type": "code",
   "execution_count": null,
   "id": "5eb56c93",
   "metadata": {},
   "outputs": [],
   "source": [
    "df = combined_df.copy()\n",
    "df = df.dropna(subset=['rating_count'])\n",
    "df = df.dropna(subset=['rating_link'])"
   ]
  },
  {
   "cell_type": "code",
   "execution_count": null,
   "id": "0281f2fe",
   "metadata": {},
   "outputs": [],
   "source": [
    "df1 = combined_df.copy()"
   ]
  },
  {
   "cell_type": "code",
   "execution_count": null,
   "id": "55119646",
   "metadata": {},
   "outputs": [],
   "source": [
    "df1"
   ]
  },
  {
   "cell_type": "code",
   "execution_count": null,
   "id": "ddd87763",
   "metadata": {},
   "outputs": [],
   "source": [
    "df\n"
   ]
  },
  {
   "cell_type": "markdown",
   "id": "e3525bec",
   "metadata": {},
   "source": [
    "### fix data"
   ]
  },
  {
   "cell_type": "code",
   "execution_count": null,
   "id": "cfacc911",
   "metadata": {},
   "outputs": [],
   "source": [
    "# Convert \"price\" column to string\n",
    "df['price'] = df['price'].astype(str)\n",
    "# Convert \"price\" column to numeric, remove commas and dollar signs, and set non-numeric values to NaN\n",
    "df['price'] = pd.to_numeric(df['price'].str.replace(',', '').str.replace('$', ''), errors='coerce')\n",
    "# Replace \"Not Priced\" values with NaN\n",
    "df.loc[df['price'] == 'Not Priced', 'price'] = 1\n",
    "# Handle missing values appropriately (e.g., impute or drop)\n",
    "df = df.dropna(subset=['price'])\n",
    "# Filter rows where \"price\" is less than or equal to 1\n",
    "df = df[df['price'] > 1]\n"
   ]
  },
  {
   "cell_type": "code",
   "execution_count": null,
   "id": "19bd6e2f",
   "metadata": {},
   "outputs": [],
   "source": [
    "#Mileage\n",
    "df['Mileage'] = df['Mileage'].astype(str).str.replace(',', '').str.replace('mi.', '')\n",
    "df['Mileage'] = pd.to_numeric(df['Mileage'], errors='coerce').astype('Int64')"
   ]
  },
  {
   "cell_type": "markdown",
   "id": "c6ce586a",
   "metadata": {},
   "source": [
    "#### fix rating_link"
   ]
  },
  {
   "cell_type": "code",
   "execution_count": null,
   "id": "73dd938d",
   "metadata": {},
   "outputs": [],
   "source": [
    "import re\n",
    "\n",
    "def extract_number_from_string(string):\n",
    "    \"\"\"\n",
    "    Extracts numbers from a string and returns as integer.\n",
    "    \"\"\"\n",
    "    regex = r'\\d+'\n",
    "    matches = re.findall(regex, string)\n",
    "    if matches:\n",
    "        return int(matches[0])\n",
    "    else:\n",
    "        return None\n"
   ]
  },
  {
   "cell_type": "code",
   "execution_count": null,
   "id": "b7cfeb9e",
   "metadata": {},
   "outputs": [],
   "source": [
    "df['rating_link'] = df['rating_link'].astype(str).apply(lambda x: extract_number_from_string(x) if x else None)"
   ]
  },
  {
   "cell_type": "code",
   "execution_count": null,
   "id": "411e622c",
   "metadata": {},
   "outputs": [],
   "source": []
  },
  {
   "cell_type": "markdown",
   "id": "3bed4096",
   "metadata": {},
   "source": [
    "### exploretory data analysis "
   ]
  },
  {
   "cell_type": "code",
   "execution_count": null,
   "id": "13c3c1b8",
   "metadata": {},
   "outputs": [],
   "source": [
    "#Exterior_color\n",
    "df['Exterior_color'] = df['Exterior_color'].astype(str)\n",
    "exterior_color_dict = {color: i for i, color in enumerate(df['Exterior_color'].unique())}\n",
    "df['Exterior_color'] = df['Exterior_color'].replace(exterior_color_dict)"
   ]
  },
  {
   "cell_type": "code",
   "execution_count": null,
   "id": "1b26e0be",
   "metadata": {},
   "outputs": [],
   "source": [
    "#Interior_color\n",
    "df['Interior_color'] = df['Interior_color'].astype(str)\n",
    "Interior_color_dict = {color: i for i, color in enumerate(df['Interior_color'].unique())}\n",
    "df['Interior_color'] = df['Interior_color'].replace(Interior_color_dict)"
   ]
  },
  {
   "cell_type": "code",
   "execution_count": null,
   "id": "2101ee18",
   "metadata": {},
   "outputs": [],
   "source": [
    "#Drivetrain\n",
    "df['Drivetrain'] = df['Drivetrain'].astype(str)\n",
    "Drivetrain_dict = {Drivetrain: i for i, Drivetrain in enumerate(df['Drivetrain'].unique())}\n",
    "df['Drivetrain'] = df['Drivetrain'].replace(Drivetrain_dict)"
   ]
  },
  {
   "cell_type": "code",
   "execution_count": null,
   "id": "b2ceb5b5",
   "metadata": {},
   "outputs": [],
   "source": [
    "#Fuel_type\n",
    "df['Fuel_type'] = df['Fuel_type'].astype(str)\n",
    "Fuel_type_dict = {Fuel_type: i for i, Fuel_type in enumerate(df['Fuel_type'].unique())}\n",
    "df['Fuel_type'] = df['Fuel_type'].replace(Fuel_type_dict)"
   ]
  },
  {
   "cell_type": "code",
   "execution_count": null,
   "id": "270880cd",
   "metadata": {},
   "outputs": [],
   "source": [
    "car_manufacturers = [\"Acura\", \"Alfa Romeo\", \"Aston Martin\", \"Audi\", \"Bentley\", \"BMW\", \"Bugatti\", \"Buick\", \"Cadillac\", \"Chevrolet\", \"Chrysler\", \"Citroën\", \"Dodge\", \"Ferrari\", \"Fiat\", \"Ford\", \"Geely\", \"Genesis\", \"GMC\", \"Honda\", \"Hyundai\", \"Infiniti\", \"Jaguar\", \"Jeep\", \"Kia\", \"Koenigsegg\", \"Lamborghini\", \"Land Rover\", \"Lexus\", \"Lincoln\", \"Lotus\", \"Maserati\", \"Mazda\", \"McLaren\", \"Mercedes-Benz\", \"Mini\", \"Mitsubishi\", \"Nissan\", \"Pagani\", \"Polestar\", \"Porsche\", \"Ram\", \"Renault\", \"Rolls-Royce\", \"Smart\", \"Subaru\", \"Suzuki\", \"Tesla\", \"Toyota\", \"Volkswagen\", \"Volvo\", \"Other\"]     \n",
    "# create a dictionary to map car brand names to numbers\n",
    "car_brand_map = {brand: i for i, brand in enumerate(car_manufacturers)}\n",
    "# replace the car brand names with their corresponding numbers\n",
    "df['car_brand'] = df['car_brand'].replace(car_brand_map)"
   ]
  },
  {
   "cell_type": "code",
   "execution_count": null,
   "id": "a6c1a0ac",
   "metadata": {},
   "outputs": [],
   "source": [
    "#Transmission\n",
    "df['Transmission'] = df['Transmission'].astype(str)\n",
    "Transmission_dict = {Transmission: i for i, Transmission in enumerate(df['Transmission'].unique())}\n",
    "df['Transmission'] = df['Transmission'].replace(Transmission_dict)"
   ]
  },
  {
   "cell_type": "code",
   "execution_count": null,
   "id": "90a964c3",
   "metadata": {},
   "outputs": [],
   "source": [
    "bins = [0, 5000, 10000, 15000, 25000, 30000,35000,45000,70000,80000,90000,100000,150000,500000,2000000]\n",
    "labels = [1,2,3,4,5,6,7,8,9,10,11,12,13,14]\n",
    "df['price'] = pd.cut(df['price'], bins=bins, labels=labels, include_lowest=True)"
   ]
  },
  {
   "cell_type": "code",
   "execution_count": null,
   "id": "6408d3b5",
   "metadata": {},
   "outputs": [],
   "source": [
    "bins = [0, 10000, 15000, 20000, 25000, 30000,35000,50000,70000,80000,90000,100000,150000,500000,2000000]\n",
    "labels = [1,2,3,4,5,6,7,8,9,10,11,12,13,14]\n",
    "df['Mileage'] = pd.cut(df['Mileage'], bins=bins, labels=labels, include_lowest=True)"
   ]
  },
  {
   "cell_type": "code",
   "execution_count": null,
   "id": "1660340e",
   "metadata": {},
   "outputs": [],
   "source": [
    "bins = [0,1,2,3,4,5]\n",
    "labels = [1,2,3,4,5]\n",
    "df['rating_count'] = pd.cut(df['rating_count'], bins=bins, labels=labels, include_lowest=True)"
   ]
  },
  {
   "cell_type": "code",
   "execution_count": null,
   "id": "9aa39c4a",
   "metadata": {},
   "outputs": [],
   "source": [
    "df"
   ]
  },
  {
   "cell_type": "code",
   "execution_count": null,
   "id": "e588ecbe",
   "metadata": {},
   "outputs": [],
   "source": [
    "df = df[df['rating_link'] > 10]"
   ]
  },
  {
   "cell_type": "code",
   "execution_count": null,
   "id": "f3ef2037",
   "metadata": {},
   "outputs": [],
   "source": [
    "df"
   ]
  },
  {
   "cell_type": "code",
   "execution_count": null,
   "id": "c2c75338",
   "metadata": {},
   "outputs": [],
   "source": [
    "import pandas as pd\n",
    "import matplotlib.pyplot as plt\n",
    "\n",
    "# Choose a feature to plot as a pie chart\n",
    "feature_to_plot = 'Fuel_type'\n",
    "\n",
    "# Get the count of each category\n",
    "value_counts = df1[feature_to_plot].value_counts()\n",
    "\n",
    "# Filter out categories with a count lower than X\n",
    "X = 500\n",
    "value_counts = value_counts[value_counts >= X]\n",
    "\n",
    "# Create the pie chart\n",
    "plt.pie(value_counts, labels=value_counts.index, autopct='%1.1f%%')\n",
    "\n",
    "# Add a title\n",
    "plt.title('Fuel Type Distribution (count >= {})'.format(X))\n",
    "\n",
    "# Show the plot\n",
    "plt.show()\n"
   ]
  },
  {
   "cell_type": "code",
   "execution_count": null,
   "id": "f571aee2",
   "metadata": {},
   "outputs": [],
   "source": [
    "import pandas as pd\n",
    "import matplotlib.pyplot as plt\n",
    "\n",
    "# Choose a feature to plot as a bar plot\n",
    "feature_to_plot = 'car_brand'\n",
    "\n",
    "# Get the count of each category\n",
    "value_counts = df1[feature_to_plot].value_counts()\n",
    "\n",
    "# Filter out categories with a count lower than X\n",
    "X = 100\n",
    "value_counts = value_counts[value_counts >= X]\n",
    "\n",
    "# Create the bar plot\n",
    "plt.barh(value_counts.index, value_counts)\n",
    "\n",
    "# Add axis labels and a title\n",
    "plt.xlabel('Count')\n",
    "plt.ylabel(feature_to_plot)\n",
    "plt.title('{} Distribution (count >= {})'.format(feature_to_plot.capitalize(), X))\n",
    "\n",
    "# Show the plot\n",
    "plt.show()\n"
   ]
  },
  {
   "cell_type": "code",
   "execution_count": null,
   "id": "396612fb",
   "metadata": {},
   "outputs": [],
   "source": [
    "import pandas as pd\n",
    "import matplotlib.pyplot as plt\n",
    "\n",
    "# Choose a feature to plot as a bar plot\n",
    "feature_to_plot = 'rating_count'\n",
    "\n",
    "# Get the count of each category\n",
    "value_counts = df1[feature_to_plot].value_counts()\n",
    "\n",
    "# Filter out categories with a count lower than X\n",
    "X = 100\n",
    "value_counts = value_counts[value_counts >= X]\n",
    "\n",
    "# Create the bar plot\n",
    "plt.barh(value_counts.index, value_counts)\n",
    "\n",
    "# Add axis labels and a title\n",
    "plt.xlabel('Count')\n",
    "plt.ylabel(feature_to_plot)\n",
    "plt.title('{} Distribution (count >= {})'.format(feature_to_plot.capitalize(), X))\n",
    "\n",
    "# Show the plot\n",
    "plt.show()\n"
   ]
  },
  {
   "cell_type": "code",
   "execution_count": null,
   "id": "f5161b97",
   "metadata": {},
   "outputs": [],
   "source": [
    "\n",
    "import pandas as pd\n",
    "import matplotlib.pyplot as plt\n",
    "\n",
    "# Choose a feature to plot as a bar plot\n",
    "feature_to_plot = 'Transmission'\n",
    "\n",
    "# Get the count of each category\n",
    "value_counts = df1[feature_to_plot].value_counts()\n",
    "\n",
    "# Filter out categories with a count lower than X\n",
    "X = 200\n",
    "value_counts = value_counts[value_counts >= X]\n",
    "\n",
    "# Create the bar plot\n",
    "plt.barh(value_counts.index, value_counts)\n",
    "value_counts.index\n",
    "# Add axis labels and a title\n",
    "plt.xlabel('Count')\n",
    "plt.ylabel(feature_to_plot)\n",
    "plt.title('{} Distribution (count >= {})'.format(feature_to_plot.capitalize(), X))\n",
    "\n",
    "# Show the plot\n",
    "plt.show()\n"
   ]
  },
  {
   "cell_type": "code",
   "execution_count": null,
   "id": "a1738c94",
   "metadata": {},
   "outputs": [],
   "source": []
  },
  {
   "cell_type": "markdown",
   "id": "9a28e81f",
   "metadata": {},
   "source": [
    "### EDA"
   ]
  },
  {
   "cell_type": "code",
   "execution_count": null,
   "id": "d6b25bf0",
   "metadata": {},
   "outputs": [],
   "source": [
    "import pandas as pd\n",
    "import seaborn as sns\n",
    "import matplotlib.pyplot as plt\n",
    "\n",
    "# Assuming your DataFrame is named \"df\"\n",
    "features = ['li_tags_sum','rating_count','rating_link','car_brand','year', 'mpg', 'Engine_size', 'price', 'Exterior_color', 'Interior_color', 'Drivetrain', 'Fuel_type', 'Transmission', 'Mileage']\n",
    "\n",
    "# Select the three columns to show correlation\n",
    "cols = ['li_tags_sum','rating_count','rating_link','car_brand','year', 'mpg', 'Engine_size', 'price', 'Exterior_color', 'Interior_color', 'Drivetrain', 'Fuel_type', 'Transmission', 'Mileage']\n",
    "\n",
    "corr = df[cols].corr()\n",
    "\n",
    "# Plot a heatmap of the correlation matrix\n",
    "sns.heatmap(corr, annot=True, cmap='coolwarm')\n",
    "plt.savefig('heatmap.jpg', dpi=300)\n",
    "plt.show()\n"
   ]
  },
  {
   "cell_type": "code",
   "execution_count": null,
   "id": "420985b8",
   "metadata": {},
   "outputs": [],
   "source": [
    "import pandas as pd\n",
    "import seaborn as sns\n",
    "\n",
    "\n",
    "features = ['li_tags_sum','rating_count','rating_link','car_brand','year', 'mpg', 'Engine_size', 'price', 'Exterior_color', 'Interior_color', 'Drivetrain', 'Fuel_type', 'Transmission', 'Mileage']\n",
    "\n",
    "# Select only the numeric columns for the scatter matrix plot\n",
    "numeric_cols = ['li_tags_sum','rating_count','rating_link','car_brand','year', 'mpg', 'Engine_size', 'price', 'Exterior_color', 'Interior_color', 'Drivetrain', 'Fuel_type', 'Transmission', 'Mileage']\n",
    "numeric_df = df[numeric_cols]\n",
    "\n",
    "# Create the scatter matrix plot using seaborn\n",
    "sns.pairplot(numeric_df)\n",
    "\n",
    "# Save the plot as a jpeg file\n",
    "plt.savefig('scatter_matrix.jpg', dpi=300)\n",
    "\n"
   ]
  },
  {
   "cell_type": "code",
   "execution_count": null,
   "id": "4e0faf78",
   "metadata": {},
   "outputs": [],
   "source": [
    "import pandas as pd\n",
    "import seaborn as sns\n",
    "import matplotlib.pyplot as plt\n",
    "\n",
    "# Assuming your DataFrame is named \"df\"\n",
    "features = ['car_brand','year', 'mpg', 'Engine_size', 'price', 'Exterior_color', 'Interior_color', 'Drivetrain', 'Fuel_type', 'Transmission', 'Mileage']\n",
    "\n",
    "# Select only the numeric columns for the scatter matrix plot\n",
    "numeric_cols = ['rating_count','year', 'mpg', 'Engine_size', 'price', 'Mileage','car_brand','Drivetrain','Fuel_type']\n",
    "numeric_df = df[numeric_cols]\n",
    "\n",
    "# Iterate through the columns of numeric_df and create a separate scatter plot for each column\n",
    "for col in numeric_df.columns:\n",
    "    sns.scatterplot(x='rating_count', y=col, data=numeric_df)\n",
    "    plt.xticks(rotation=90)  # Rotate the x-axis labels by 90 degrees\n",
    "    plt.show()\n"
   ]
  },
  {
   "cell_type": "code",
   "execution_count": null,
   "id": "c99f8dec",
   "metadata": {},
   "outputs": [],
   "source": [
    "import pandas as pd\n",
    "import seaborn as sns\n",
    "import matplotlib.pyplot as plt\n",
    "\n",
    "# Assuming your DataFrame is named \"df\"\n",
    "features = ['li_tags_sum','rating_count','rating_link','car_brand','year', 'mpg', 'Engine_size', 'price', 'Exterior_color', 'Interior_color', 'Drivetrain', 'Fuel_type', 'Transmission', 'Mileage']\n",
    "\n",
    "# Select the three columns to show correlation\n",
    "cols = ['li_tags_sum','rating_count','rating_link','car_brand','year', 'mpg', 'Engine_size', 'price', 'Exterior_color', 'Interior_color', 'Drivetrain', 'Fuel_type', 'Transmission', 'Mileage']\n",
    "\n",
    "# Compute correlation matrix\n",
    "corr = df[cols].corr()\n",
    "\n",
    "# Heatmap of correlation matrix\n",
    "sns.heatmap(corr, annot=True, cmap='coolwarm')\n",
    "plt.title('Heatmap of correlation matrix')\n",
    "plt.savefig('heatmap.jpg', dpi=300)\n",
    "plt.show()\n",
    "\n",
    "# Scatterplot matrix\n",
    "sns.pairplot(df[cols])\n",
    "plt.title('Scatterplot matrix')\n",
    "plt.savefig('scatterplot_matrix.jpg', dpi=300)\n",
    "plt.show()\n",
    "\n",
    "# Pairplot\n",
    "sns.pairplot(df[cols], diag_kind='hist')\n",
    "plt.title('Pairplot')\n",
    "plt.savefig('pairplot.jpg', dpi=300)\n",
    "plt.show()\n",
    "\n",
    "# Correlation matrix plot\n",
    "sns.clustermap(corr, cmap='coolwarm', annot=True)\n",
    "plt.title('Correlation matrix plot')\n",
    "plt.savefig('correlation_matrix.jpg', dpi=300)\n",
    "plt.show()\n",
    "\n",
    "# Regression plot\n",
    "sns.regplot(x='price', y='Engine_size', data=df)\n",
    "plt.title('Regression plot')\n",
    "plt.savefig('regression_plot.jpg', dpi=300)\n",
    "plt.show()\n",
    "\n",
    "# Jointplot\n",
    "sns.jointplot(x='price', y='Engine_size', data=df, kind='hex')\n",
    "plt.title('Jointplot')\n",
    "plt.savefig('jointplot.jpg', dpi=300)\n",
    "plt.show()\n"
   ]
  },
  {
   "cell_type": "code",
   "execution_count": null,
   "id": "cbf03239",
   "metadata": {},
   "outputs": [],
   "source": []
  },
  {
   "cell_type": "markdown",
   "id": "4a1ab9bf",
   "metadata": {},
   "source": [
    "### lets find the best TREE for us!"
   ]
  },
  {
   "cell_type": "code",
   "execution_count": null,
   "id": "732e3b13",
   "metadata": {},
   "outputs": [],
   "source": []
  },
  {
   "cell_type": "code",
   "execution_count": null,
   "id": "eab6f769",
   "metadata": {},
   "outputs": [],
   "source": [
    "import itertools\n",
    "import pandas as pd\n",
    "from sklearn.tree import DecisionTreeRegressor\n",
    "from sklearn.model_selection import train_test_split\n",
    "from sklearn.metrics import mean_squared_error, r2_score\n",
    "\n",
    "def process_combinations(features, df, max_depth=None):\n",
    "    max_r2 = 0\n",
    "    for i in range(len(features)):\n",
    "        combinations = itertools.combinations(features, i+1)\n",
    "        for combo in combinations:\n",
    "            df1 = df.copy()\n",
    "            r2 = process_combination(combo, df1, max_depth=max_depth)\n",
    "            if r2 > max_r2:\n",
    "                max_r2 = r2\n",
    "    print(f'Coefficient of determination (R^2)_MAX_IS : {max_r2:.2f}')\n",
    "\n",
    "def process_combination(combo, df, max_depth=None):\n",
    "    # select the features to use as input variables\n",
    "    features = list(combo)\n",
    "    \n",
    "    # drop rows with missing values\n",
    "    df = df.dropna()\n",
    "    \n",
    "    # split the data into training and test sets\n",
    "    X_train, X_test, y_train, y_test = train_test_split(df[features], df['rating_count'], test_size=0.5, random_state=42)\n",
    "    \n",
    "    # create and fit the decision tree model\n",
    "    model = DecisionTreeRegressor(max_depth=max_depth)\n",
    "    model.fit(X_train, y_train)\n",
    "    \n",
    "    # make predictions on the test set\n",
    "    y_pred = model.predict(X_test)\n",
    "    \n",
    "    # evaluate the model\n",
    "    mse = mean_squared_error(y_test, y_pred)\n",
    "    r2 = r2_score(y_test, y_pred)\n",
    "    print(f'Features: {features}')\n",
    "    print(f'Mean squared error: {mse:.2f}')\n",
    "    print(f'Coefficient of determination (R^2): {r2:.2f}')\n",
    "    \n",
    "    return r2\n"
   ]
  },
  {
   "cell_type": "code",
   "execution_count": null,
   "id": "f9e051dd",
   "metadata": {},
   "outputs": [],
   "source": [
    "features = ['car_brand','year', 'mpg','Engine_size','rating_link','price','Exterior_color','Interior_color','Drivetrain','Fuel_type','Transmission','Mileage']\n",
    "df = df.dropna()\n",
    "process_combinations(features,df)\n"
   ]
  },
  {
   "cell_type": "markdown",
   "id": "5993b514",
   "metadata": {},
   "source": [
    "### changing \n",
    "all number of reviews"
   ]
  },
  {
   "cell_type": "markdown",
   "id": "bce27505",
   "metadata": {},
   "source": [
    " Features: ['car_brand', 'year', 'rating_link', 'price', 'Transmission', 'Mileage']\n",
    " Mean squared error: 0.01\n",
    " Coefficient of determination (R^2): 0.31"
   ]
  },
  {
   "cell_type": "markdown",
   "id": "c7b64e3f",
   "metadata": {},
   "source": [
    "### changing \n",
    " number of reviews >10 "
   ]
  },
  {
   "cell_type": "markdown",
   "id": "46003da9",
   "metadata": {},
   "source": [
    "Features: ['year', 'Engine_size', 'rating_link', 'Mileage']\n",
    "Mean squared error: 0.00\n",
    "Coefficient of determination (R^2): 0.36"
   ]
  },
  {
   "cell_type": "code",
   "execution_count": null,
   "id": "638e414b",
   "metadata": {},
   "outputs": [],
   "source": [
    "df"
   ]
  },
  {
   "cell_type": "code",
   "execution_count": null,
   "id": "6a951b47",
   "metadata": {},
   "outputs": [],
   "source": []
  },
  {
   "cell_type": "code",
   "execution_count": null,
   "id": "954f5dbe",
   "metadata": {},
   "outputs": [],
   "source": []
  }
 ],
 "metadata": {
  "kernelspec": {
   "display_name": "Python 3 (ipykernel)",
   "language": "python",
   "name": "python3"
  },
  "language_info": {
   "codemirror_mode": {
    "name": "ipython",
    "version": 3
   },
   "file_extension": ".py",
   "mimetype": "text/x-python",
   "name": "python",
   "nbconvert_exporter": "python",
   "pygments_lexer": "ipython3",
   "version": "3.9.13"
  }
 },
 "nbformat": 4,
 "nbformat_minor": 5
}
